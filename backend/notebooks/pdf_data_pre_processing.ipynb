{
 "cells": [
  {
   "cell_type": "markdown",
   "metadata": {},
   "source": [
    "### Goal: extract data from the documents"
   ]
  },
  {
   "cell_type": "markdown",
   "metadata": {},
   "source": [
    "1. High level doc reading"
   ]
  },
  {
   "cell_type": "code",
   "execution_count": 1,
   "metadata": {},
   "outputs": [],
   "source": [
    "from llmsherpa.readers import LayoutPDFReader\n",
    "\n",
    "# extract pdf dource files and read them as \n",
    "def read_file_layout(file_name):\n",
    "    llmsherpa_api_url = \"https://readers.llmsherpa.com/api/document/developer/parseDocument?renderFormat=all\"\n",
    "    pdf_reader = LayoutPDFReader(llmsherpa_api_url)\n",
    "    doc = pdf_reader.read_pdf(file_name)\n",
    "    return doc"
   ]
  },
  {
   "cell_type": "markdown",
   "metadata": {},
   "source": [
    "{\n",
    "    file_title:...,\n",
    "    summary:....,\n",
    "    table of content:.....,\n",
    "    source:....., \n",
    "\n",
    "}"
   ]
  },
  {
   "cell_type": "code",
   "execution_count": 3,
   "metadata": {},
   "outputs": [],
   "source": [
    "from pydantic import BaseModel, Field\n",
    "from typing import List,Optional \n",
    "\n",
    "\n",
    "class DocChunk(BaseModel):\n",
    "    chunk_id :  str = Field(description=\"this is the chunk's id\")\n",
    "    chunk_text : str = Field(description=\"this is the chunks' text\")\n",
    "    chunk_source : str = Field(description=\"this is the chunk's source document\")\n",
    "    chunk_doc_location : str = Field(description=\"this is the path to the chunk in the document\")\n",
    "    chunk_keywords : List[str] = Field(description=\"this is a list of the chunk's keywords which could be entities or concepts\")\n",
    "class PDFDocDataSource(BaseModel): \n",
    "    file_name : str = Field(description=\"this is the name od the document\")\n",
    "    summary : Optional[str] = Field(default='',description=\"this is a summary of the documents \")\n",
    "    table_of_content : Optional[List[str]] = Field(default=[],description=\"This is a list of the document's sections\")\n",
    "    source : Optional[str] = Field(default='',description=\"this is the produsing entity of the document\")\n",
    "    chunks : List[DocChunk] =  Field(description=\"this is a list of the document's chunks\")"
   ]
  },
  {
   "cell_type": "code",
   "execution_count": null,
   "metadata": {},
   "outputs": [],
   "source": [
    "def get_file_chunks(doc):\n",
    "    chunks_as_text = []\n",
    "    chunks_lst = doc.chunks()\n",
    "    for chunk in chunks_lst:\n",
    "        chunk_txt = chunk.to_text()\n",
    "        chunks_as_text.append(chunk_txt)\n",
    "    return chunks_as_text"
   ]
  },
  {
   "cell_type": "code",
   "execution_count": 6,
   "metadata": {},
   "outputs": [],
   "source": [
    "def get_file_sections(doc):\n",
    "    sections = []\n",
    "    sections_lst = doc.sections()\n",
    "    for section in sections_lst:\n",
    "        section_txt = section.to_text(include_children=True,recurse=True)\n",
    "        section_title = section.title \n",
    "        sections.append( {\"section\":section_title, \"section_text\": section_txt})\n",
    "    return sections"
   ]
  },
  {
   "cell_type": "code",
   "execution_count": null,
   "metadata": {},
   "outputs": [],
   "source": [
    "doc = read_file_layout(\"/home/asmaa/lablabai-hackathons/hygiene-hero/backend/assets/pdf-docs/Heavy menstrual bleeding diagnosis and medical management.pdf\")\n",
    "sections = get_file_sections(doc)\n",
    "sections"
   ]
  },
  {
   "cell_type": "code",
   "execution_count": 9,
   "metadata": {},
   "outputs": [],
   "source": [
    "def get_toc_unstructured(doc_sections):\n",
    "    toc = []\n",
    "    for s in doc_sections:\n",
    "        toc.append(s['section'])\n",
    "        \n",
    "    return toc"
   ]
  },
  {
   "cell_type": "code",
   "execution_count": null,
   "metadata": {},
   "outputs": [],
   "source": [
    "import os\n",
    "\n",
    "def read_docs_data(folder_path):\n",
    "    docs_data = []\n",
    "    for filename in os.listdir(folder_path):\n",
    "        \n",
    "        if filename.endswith('.pdf'):\n",
    "            pdf_doc_obj = PDFDocDataSource(file_name=filename)\n",
    "            file_path = os.path.join(folder_path, filename)\n",
    "        \n",
    "        "
   ]
  }
 ],
 "metadata": {
  "kernelspec": {
   "display_name": "env",
   "language": "python",
   "name": "python3"
  },
  "language_info": {
   "codemirror_mode": {
    "name": "ipython",
    "version": 3
   },
   "file_extension": ".py",
   "mimetype": "text/x-python",
   "name": "python",
   "nbconvert_exporter": "python",
   "pygments_lexer": "ipython3",
   "version": "3.10.12"
  }
 },
 "nbformat": 4,
 "nbformat_minor": 2
}
